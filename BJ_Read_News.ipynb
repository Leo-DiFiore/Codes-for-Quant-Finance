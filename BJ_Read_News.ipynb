{
  "nbformat": 4,
  "nbformat_minor": 0,
  "metadata": {
    "colab": {
      "provenance": []
    },
    "kernelspec": {
      "name": "python3",
      "display_name": "Python 3"
    },
    "language_info": {
      "name": "python"
    }
  },
  "cells": [
    {
      "cell_type": "code",
      "execution_count": 2,
      "metadata": {
        "colab": {
          "base_uri": "https://localhost:8080/"
        },
        "id": "ibKAUmXJueBD",
        "outputId": "8a4d358f-c825-433a-e6af-876bfefa546a"
      },
      "outputs": [
        {
          "output_type": "execute_result",
          "data": {
            "text/plain": [
              "['Num feito inédito para um empreendedor brasileiro, Victor Lazarte — o fundador da empresa de games Wildlife Studios — acaba de se tornar sócio da Benchmark, uma das mais prestigiosas gestoras de venture capital do Silicon Valley.',\n",
              " 'Em Palo Alto, Victor será um dos seis ',\n",
              " 'general partners',\n",
              " ' da gestora de early stage, que opera com um modelo super enxuto de ',\n",
              " 'partnership ',\n",
              " 'em que todos os sócios têm a mesma participação.',\n",
              " 'Isso o coloca num clube seleto a que já pertenceram ícones da indústria de VC como Bill Gurley, que se aposentou no final de 2020, e Mitch Lasky, conhecido por sua expertise em games e que liderou o investimento da Benchmark na Snap, que teve um retorno estratosférico. (Mesmo antes do IPO da Snap em 2017, o fundo da Benchmark já estava dando um retorno de 11x o capital investido, líquido de taxas).',\n",
              " 'Além da Snap (a dona do Snapchat), a Benchmark foi um dos primeiros cheques do Uber, Riot Games, Ebay, Instagram e Twitter. Segundo o Crunchbase, desde 2011, a Benchmark já fez 37 saídas bem sucedidas — 14 IPOs e 23 M&As — somando mais de US$ 60 bilhões.\\xa0',\n",
              " 'Na gestora, o brasileiro vai fazer de um a dois investimentos por ano, com uma visão agnóstica em relação a setores e buscando startups em todo o mundo, incluindo o Brasil e a América Latina.',\n",
              " '“Tudo que fazemos na Benchmark é com a ideia de ser o melhor parceiro para o empreendedor,” Victor disse ao Brazil Journal. “Não temos um time grande e nem outras coisas que distraiam a gente de estar próximo do empreendedor, de ajudar ele a crescer.”',\n",
              " '“E esse é um trabalho que não dá para delegar para outras pessoas da equipe. Os melhores ',\n",
              " 'founders ',\n",
              " 'querem passar tempo com os sócios, e não com outras pessoas.”',\n",
              " 'Victor e a Benchmark já tinham uma relação especial.\\xa0 Em 2019, quando a Benchmark liderou a rodada que transformou a Wildlife num unicórnio, o valor atribuído à empresa –\\xa0 US$ 1,3 bilhão – foi o segundo maior valuation de entrada da Benchmark desde sua fundação em 1995.',\n",
              " 'De lá para cá, Victor passou a ter contato direto com Peter Fenton – o sócio responsável pelo investimento e que ajudou a Wildlife a traçar sua nova estratégia e a montar um time executivo.\\xa0',\n",
              " 'A entrada de Victor na Benchmark vem meses depois do empreendedor deixar o cargo de CEO da Wildlife, assumindo a posição de ',\n",
              " 'chairman',\n",
              " '. Em seu lugar, assumiu Peter Hill, um ex-executivo da Amazon que era o chief product officer da empresa até então.',\n",
              " 'Victor disse que sua ida para a Benchmark não muda suas atribuições na Wildlife, onde ele gasta boa parte do tempo buscando novos desenvolvedores de games para se juntarem ao ecossistema da companhia.',\n",
              " 'A Wildlife — que surgiu como uma desenvolvedora de jogos mobile — hoje atua\\xa0como uma plataforma que atrai desenvolvedores e os ajuda a criar seus próprios estúdios. Depois, ela divide os resultados com os criadores.\\xa0',\n",
              " '“É um trabalho parecido com o que eu vou fazer na Benchmark,” disse ele.\\xa0',\n",
              " 'Nos últimos anos, Victor também também já teve experiência como investidor-anjo. Ele participou do ',\n",
              " 'seed round',\n",
              " ' da Brex, avaliada em US$ 12 bilhões há dois anos, e foi um dos primeiros cheques da ScaleAI — que ajuda empresas a treinar seus modelos de inteligência artificial — e da Figma, uma ferramenta de design colaborativo.\\xa0',\n",
              " 'A Scale AI foi avaliada em US$ 7,3 bilhões em sua última rodada privada; a Figma foi vendida para a Adobe no ano passado por US$ 20 bi.\\xa0',\n",
              " 'Victor se junta aos outros cinco sócios da Benchmark: Peter Fenton, Eric Vishria, Chetan Puttagunta, Sarah Tavel e Miles Grimshaw.']"
            ]
          },
          "metadata": {},
          "execution_count": 2
        }
      ],
      "source": [
        "from bs4 import BeautifulSoup as BS\n",
        "import requests\n",
        "\n",
        "link = requests.get(\"https://braziljournal.com/um-brasileiro-na-benchmark/\").text\n",
        "soup_link = BS(link, \"html5lib\")\n",
        "[linha.text for linha in soup_link(\"span\") if linha.has_attr(\"style\") and linha[\"style\"].startswith(\"font-weight: 400\")]"
      ]
    }
  ]
}