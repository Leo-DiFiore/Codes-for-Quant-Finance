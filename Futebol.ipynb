{
  "nbformat": 4,
  "nbformat_minor": 0,
  "metadata": {
    "colab": {
      "provenance": []
    },
    "kernelspec": {
      "name": "python3",
      "display_name": "Python 3"
    },
    "language_info": {
      "name": "python"
    }
  },
  "cells": [
    {
      "cell_type": "code",
      "execution_count": 1,
      "metadata": {
        "id": "vbB3kbyiwQjy"
      },
      "outputs": [],
      "source": [
        "import pandas as pd\n",
        "import warnings\n",
        "warnings.filterwarnings(\"ignore\")"
      ]
    },
    {
      "cell_type": "code",
      "source": [
        "def premier_league(ano_inicial = 2005, ano_final = 2024):\n",
        "  temporadas = []\n",
        "  for ano in range(ano_inicial, ano_final):\n",
        "    temporada = pd.read_csv(f\"https://www.football-data.co.uk/mmz4281/{str(ano)[2:4] + str(ano + 1)[2:4]}/E0.csv\")[[\"Date\", \"HomeTeam\", \"AwayTeam\", \"FTHG\", \"FTAG\"]]\n",
        "    temporadas.append(temporada)\n",
        "  df = pd.concat(temporadas, ignore_index=True)\n",
        "  df[\"Gols\"] = df[\"FTHG\"] + df[\"FTAG\"]\n",
        "  df.index = pd.to_datetime(df[\"Date\"])\n",
        "  return df.drop(\"Date\", axis=1).dropna()\n",
        "\n",
        "def la_liga(ano_inicial = 2005, ano_final = 2024):\n",
        "  temporadas = []\n",
        "  for ano in range(ano_inicial, ano_final):\n",
        "    temporada = pd.read_csv(f\"https://www.football-data.co.uk/mmz4281/{str(ano)[2:4] + str(ano + 1)[2:4]}/SP1.csv\")[[\"Date\", \"HomeTeam\", \"AwayTeam\", \"FTHG\", \"FTAG\"]]\n",
        "    temporadas.append(temporada)\n",
        "  df = pd.concat(temporadas, ignore_index=True)\n",
        "  df[\"Gols\"] = df[\"FTHG\"] + df[\"FTAG\"]\n",
        "  df.index = pd.to_datetime(df[\"Date\"])\n",
        "  return df.drop(\"Date\", axis=1).dropna()\n",
        "\n",
        "def bundesliga(ano_inicial = 2005, ano_final = 2024):\n",
        "  temporadas = []\n",
        "  for ano in range(ano_inicial, ano_final):\n",
        "    temporada = pd.read_csv(f\"https://www.football-data.co.uk/mmz4281/{str(ano)[2:4] + str(ano + 1)[2:4]}/D1.csv\")[[\"Date\", \"HomeTeam\", \"AwayTeam\", \"FTHG\", \"FTAG\"]]\n",
        "    temporadas.append(temporada)\n",
        "  df = pd.concat(temporadas, ignore_index=True)\n",
        "  df[\"Gols\"] = df[\"FTHG\"] + df[\"FTAG\"]\n",
        "  df.index = pd.to_datetime(df[\"Date\"])\n",
        "  return df.drop(\"Date\", axis=1).dropna()"
      ],
      "metadata": {
        "id": "A1W-oP3uJ9uv"
      },
      "execution_count": 2,
      "outputs": []
    }
  ]
}