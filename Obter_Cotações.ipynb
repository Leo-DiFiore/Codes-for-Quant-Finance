{
 "cells": [
  {
   "cell_type": "code",
   "execution_count": 1,
   "metadata": {},
   "outputs": [],
   "source": [
    "import pandas as pd\n",
    "import time\n",
    "import datetime"
   ]
  },
  {
   "cell_type": "code",
   "execution_count": 2,
   "metadata": {},
   "outputs": [],
   "source": [
    "tickers = [\"TAEE11.SA\", \"PETR4.SA\", \"^BVSP\"] # escolher os ativos\n",
    "period1 = int(time.mktime(datetime.datetime(2017, 1, 1, 23, 59).timetuple())) # mudar ano, mês e dia. \"23\" e \"59\" é o horário, manter fixo\n",
    "period2 = int(time.mktime(datetime.datetime(2022, 12, 31, 23, 59).timetuple())) # mudar ano, mês e dia. \"23\" e \"59\" é o horário, manter fixo\n",
    "interval = \"1d\" # escolher a frequência dos dados"
   ]
  },
  {
   "cell_type": "code",
   "execution_count": 3,
   "metadata": {},
   "outputs": [],
   "source": [
    "lista_cotações = []\n",
    "\n",
    "for peers in tickers:\n",
    "    link_yahoo = f\"https://query1.finance.yahoo.com/v7/finance/download/{peers}?period1={period1}&period2={period2}&interval={interval}&events=history&includeAdjustedClose=true\"\n",
    "    df_cotação = pd.read_csv(link_yahoo)\n",
    "    df_cotação[\"Ativo\"]=peers\n",
    "    lista_cotações.append(df_cotação)    \n",
    "    \n",
    "df_cotação = pd.concat(lista_cotações)"
   ]
  },
  {
   "cell_type": "code",
   "execution_count": null,
   "metadata": {},
   "outputs": [],
   "source": [
    "df_cotação[[\"Date\",\"Adj Close\",\"Ativo\"]]"
   ]
  }
 ],
 "metadata": {
  "kernelspec": {
   "display_name": "Python 3",
   "language": "python",
   "name": "python3"
  },
  "language_info": {
   "codemirror_mode": {
    "name": "ipython",
    "version": 3
   },
   "file_extension": ".py",
   "mimetype": "text/x-python",
   "name": "python",
   "nbconvert_exporter": "python",
   "pygments_lexer": "ipython3",
   "version": "3.8.5"
  }
 },
 "nbformat": 4,
 "nbformat_minor": 4
}
